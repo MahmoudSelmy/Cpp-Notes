{
 "cells": [
  {
   "cell_type": "markdown",
   "metadata": {},
   "source": [
    "# Values\n",
    "\n",
    "- Lvalues: \n",
    "  - have an address that can be accessed. \n",
    "  - They are expressions whose evaluation by the compiler determines the identity of objects or functions.\n",
    "\n",
    "- Prvalues \n",
    "  - do not have an address that is accessible directly. \n",
    "  - They are temporary expressions used to initialize objects or compute the value of the operand of an operator"
   ]
  },
  {
   "cell_type": "markdown",
   "metadata": {},
   "source": [
    "# Rvalue references\n",
    "\n",
    "Since C++11, there is a new type available called rvalue reference, which can be identified from the double ampersand && after a type name. With this operator, it is possible to store and even modify an rvalue, i.e. a temporary object which would otherwise be lost quick"
   ]
  },
  {
   "cell_type": "code",
   "execution_count": 1,
   "metadata": {},
   "outputs": [
    {
     "name": "stdout",
     "output_type": "stream",
     "text": [
      "k = 3, l = 3\n"
     ]
    }
   ],
   "source": [
    "#include <iostream>\n",
    "\n",
    "int i = 1; \n",
    "int j = 2; \n",
    "int k = i + j; \n",
    "int &&l = i + j;\n",
    "std::cout << \"k = \" << k << \", l = \" << l << std::endl;"
   ]
  },
  {
   "cell_type": "code",
   "execution_count": null,
   "metadata": {},
   "outputs": [],
   "source": []
  }
 ],
 "metadata": {
  "kernelspec": {
   "display_name": "C++17",
   "language": "C++17",
   "name": "xcpp17"
  },
  "language_info": {
   "codemirror_mode": "text/x-c++src",
   "file_extension": ".cpp",
   "mimetype": "text/x-c++src",
   "name": "c++",
   "version": "17"
  }
 },
 "nbformat": 4,
 "nbformat_minor": 4
}
