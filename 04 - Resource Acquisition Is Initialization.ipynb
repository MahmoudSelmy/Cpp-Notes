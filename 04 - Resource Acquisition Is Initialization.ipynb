{
 "cells": [
  {
   "cell_type": "markdown",
   "metadata": {},
   "source": [
    "# Resource Acquisition Is Initialization or RAII\n",
    "\n",
    "is a C++ programming technique which binds the life cycle of a resource that must be acquired before use (allocated heap memory, thread of execution, open socket, open file, locked mutex, disk space, database connection—anything that exists in limited supply) to the lifetime of an object.\n",
    "\n",
    "RAII can be summarized as follows:\n",
    "\n",
    "- encapsulate each resource into a class, where\n",
    "  - the constructor acquires the resource and establishes all class invariants or throws an exception if that cannot be done,\n",
    "  - the destructor releases the resource and never throws exceptions;\n",
    "- always use the resource via an instance of a RAII-class that either\n",
    "  - has automatic storage duration or temporary lifetime itself, or\n",
    "  - has lifetime that is bounded by the lifetime of an automatic or temporary object"
   ]
  },
  {
   "cell_type": "code",
   "execution_count": 2,
   "metadata": {},
   "outputs": [],
   "source": [
    "#include<iostream>\n",
    "\n",
    "class MyInt\n",
    "{\n",
    "    int *_p; // pointer to heap data\n",
    "public:\n",
    "    MyInt(int *p = NULL) { _p = p; }\n",
    "    ~MyInt() \n",
    "    { \n",
    "        std::cout << \"resource \" << *_p << \" deallocated\" << std::endl;\n",
    "        delete _p; \n",
    "    }\n",
    "    int &operator*() { return *_p; } // // overload dereferencing operator\n",
    "};"
   ]
  },
  {
   "cell_type": "code",
   "execution_count": null,
   "metadata": {},
   "outputs": [],
   "source": []
  }
 ],
 "metadata": {
  "kernelspec": {
   "display_name": "C++17",
   "language": "C++17",
   "name": "xcpp17"
  },
  "language_info": {
   "codemirror_mode": "text/x-c++src",
   "file_extension": ".cpp",
   "mimetype": "text/x-c++src",
   "name": "c++",
   "version": "17"
  }
 },
 "nbformat": 4,
 "nbformat_minor": 4
}
