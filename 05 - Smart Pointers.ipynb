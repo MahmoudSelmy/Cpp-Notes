{
 "cells": [
  {
   "cell_type": "markdown",
   "metadata": {},
   "source": [
    "# RAII and smart pointers\n",
    "\n",
    "In the last section, we have discussed the powerful RAII idiom, which reduces the risk of improperly managed resources. Applied to the concept of memory management, RAII enables us to encapsulate new and delete calls within a class and thus present the programmer with a clean interface to the resource he intends to use. Since C++11, there exists a language feature called smart pointers, which builds on the concept of RAII and - without exaggeration - revolutionizes the way we use resources on the heap. Let’s take a look."
   ]
  },
  {
   "cell_type": "markdown",
   "metadata": {},
   "source": [
    "# 1. The Unique pointer"
   ]
  },
  {
   "cell_type": "code",
   "execution_count": 1,
   "metadata": {},
   "outputs": [],
   "source": [
    "#include<iostream>\n",
    "class MyClass\n",
    "{\n",
    "private:\n",
    "    std::string _text;\n",
    "\n",
    "public:\n",
    "    MyClass() {}\n",
    "    MyClass(std::string text) { _text = text; }\n",
    "    ~MyClass() { std::cout << _text << \" destroyed\" << std::endl; }\n",
    "    void setText(std::string text) { _text = text; }\n",
    "};"
   ]
  },
  {
   "cell_type": "code",
   "execution_count": 2,
   "metadata": {},
   "outputs": [],
   "source": [
    "void run_unique()\n",
    "{\n",
    "    // create unique pointer to proprietary class\n",
    "    std::unique_ptr<MyClass> myClass1(new MyClass());\n",
    "    std::unique_ptr<MyClass> myClass2(new MyClass(\"String 2\"));\n",
    "    std::unique_ptr<MyClass> myClass3 =  std::make_unique<MyClass>(\"String 3\");\n",
    "\n",
    "    // call member function using ->\n",
    "    myClass1->setText(\"String 1\");\n",
    "\n",
    "    // use the dereference operator * \n",
    "    *myClass1 = *myClass2;\n",
    "\n",
    "    // use the .get() function to retrieve a raw pointer to the object\n",
    "    std::cout << \"Objects have stack addresses \" << myClass1.get() << \" and \" << myClass2.get() << std::endl;\n",
    "}\n"
   ]
  },
  {
   "cell_type": "code",
   "execution_count": 3,
   "metadata": {},
   "outputs": [
    {
     "name": "stdout",
     "output_type": "stream",
     "text": [
      "Objects have stack addresses 0x556e2718ad10 and 0x556e2738d9c0\n",
      "String 3 destroyed\n",
      "String 2 destroyed\n",
      "String 2 destroyed\n"
     ]
    }
   ],
   "source": [
    "run_unique()"
   ]
  },
  {
   "cell_type": "markdown",
   "metadata": {},
   "source": [
    "# 2. The Shared Pointer"
   ]
  },
  {
   "cell_type": "code",
   "execution_count": 4,
   "metadata": {},
   "outputs": [],
   "source": [
    "void run_shared()\n",
    "{\n",
    "    std::shared_ptr<MyClass> shared(new MyClass);\n",
    "    std::cout << \"shared pointer count = \" << shared.use_count() << std::endl;\n",
    "    \n",
    "    // reallocate data to shared ptr\n",
    "    shared.reset(new MyClass);\n",
    "    std::cout << \"shared pointer count = \" << shared.use_count() << std::endl;\n",
    "}"
   ]
  },
  {
   "cell_type": "code",
   "execution_count": 5,
   "metadata": {},
   "outputs": [
    {
     "name": "stdout",
     "output_type": "stream",
     "text": [
      "shared pointer count = 1\n",
      " destroyed\n",
      "shared pointer count = 1\n",
      " destroyed\n"
     ]
    }
   ],
   "source": [
    "run_shared()"
   ]
  },
  {
   "cell_type": "markdown",
   "metadata": {},
   "source": [
    "# 3. The Weak Pointer"
   ]
  },
  {
   "cell_type": "code",
   "execution_count": 6,
   "metadata": {},
   "outputs": [],
   "source": [
    "void run_weak_counter()\n",
    "{\n",
    "    std::shared_ptr<int> mySharedPtr(new int);\n",
    "    std::cout << \"shared pointer count = \" << mySharedPtr.use_count() << std::endl;\n",
    "\n",
    "    std::weak_ptr<int> myWeakPtr1(mySharedPtr);\n",
    "    std::weak_ptr<int> myWeakPtr2(myWeakPtr1);\n",
    "    std::cout << \"shared pointer count = \" << mySharedPtr.use_count() << std::endl;\n",
    "}"
   ]
  },
  {
   "cell_type": "code",
   "execution_count": 7,
   "metadata": {},
   "outputs": [
    {
     "name": "stdout",
     "output_type": "stream",
     "text": [
      "shared pointer count = 1\n",
      "shared pointer count = 1\n"
     ]
    }
   ],
   "source": [
    "run_weak_counter();"
   ]
  },
  {
   "cell_type": "code",
   "execution_count": 8,
   "metadata": {},
   "outputs": [],
   "source": [
    "void run_weak_expired()\n",
    "{\n",
    "    std::shared_ptr<int> mySharedPtr(new int);\n",
    "    std::weak_ptr<int> myWeakPtr(mySharedPtr);\n",
    "\n",
    "    mySharedPtr.reset(new int);\n",
    "\n",
    "    if (myWeakPtr.expired() == true)\n",
    "    {\n",
    "        std::cout << \"Weak pointer expired!\" << std::endl;\n",
    "    }\n",
    "}"
   ]
  },
  {
   "cell_type": "code",
   "execution_count": 9,
   "metadata": {},
   "outputs": [
    {
     "name": "stdout",
     "output_type": "stream",
     "text": [
      "Weak pointer expired!\n"
     ]
    }
   ],
   "source": [
    "run_weak_expired()"
   ]
  },
  {
   "cell_type": "markdown",
   "metadata": {},
   "source": [
    "# Converting between smart pointers"
   ]
  },
  {
   "cell_type": "code",
   "execution_count": 10,
   "metadata": {},
   "outputs": [],
   "source": [
    "void run_convert_ptrs()\n",
    "{\n",
    "    // construct a unique pointer\n",
    "    std::unique_ptr<MyClass> uniquePtr(new MyClass);\n",
    "    \n",
    "    // (1) shared pointer from unique pointer\n",
    "    std::shared_ptr<MyClass> sharedPtr1 = std::move(uniquePtr);\n",
    "\n",
    "    // (2) shared pointer from weak pointer\n",
    "    std::weak_ptr<MyClass> weakPtr(sharedPtr1);\n",
    "    std::shared_ptr<MyClass> sharedPtr2 = weakPtr.lock();\n",
    "}"
   ]
  },
  {
   "cell_type": "code",
   "execution_count": 11,
   "metadata": {},
   "outputs": [
    {
     "name": "stdout",
     "output_type": "stream",
     "text": [
      " destroyed\n"
     ]
    }
   ],
   "source": [
    "run_convert_ptrs()"
   ]
  },
  {
   "cell_type": "code",
   "execution_count": null,
   "metadata": {},
   "outputs": [],
   "source": []
  }
 ],
 "metadata": {
  "kernelspec": {
   "display_name": "C++17",
   "language": "C++17",
   "name": "xcpp17"
  },
  "language_info": {
   "codemirror_mode": "text/x-c++src",
   "file_extension": ".cpp",
   "mimetype": "text/x-c++src",
   "name": "c++",
   "version": "17"
  }
 },
 "nbformat": 4,
 "nbformat_minor": 4
}
