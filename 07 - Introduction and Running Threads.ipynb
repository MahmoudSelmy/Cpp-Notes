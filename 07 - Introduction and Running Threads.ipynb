{
 "cells": [
  {
   "cell_type": "code",
   "execution_count": 1,
   "metadata": {},
   "outputs": [],
   "source": [
    "#include <iostream>\n",
    "#include <thread>"
   ]
  },
  {
   "cell_type": "markdown",
   "metadata": {},
   "source": [
    "# Starting Threads with Function Objects"
   ]
  },
  {
   "cell_type": "code",
   "execution_count": 2,
   "metadata": {},
   "outputs": [],
   "source": [
    "class Vehicle\n",
    "{\n",
    "public:\n",
    "    Vehicle(int id) : _id(id) {}\n",
    "    void operator()()\n",
    "    {\n",
    "        std::cout << \"Vehicle #\" << _id << \" has been created\" << std::endl;\n",
    "    }\n",
    "\n",
    "private:\n",
    "    int _id;\n",
    "};"
   ]
  },
  {
   "cell_type": "code",
   "execution_count": 3,
   "metadata": {},
   "outputs": [
    {
     "name": "stdout",
     "output_type": "stream",
     "text": [
      "Vehicle #1 has been created\n"
     ]
    }
   ],
   "source": [
    "// create thread \n",
    "std::thread t(Vehicle(1)); // C++'s most vexing parse\n",
    "// t.join();"
   ]
  },
  {
   "cell_type": "code",
   "execution_count": 4,
   "metadata": {},
   "outputs": [
    {
     "name": "stdout",
     "output_type": "stream",
     "text": [
      "Vehicle #1 has been created\n"
     ]
    }
   ],
   "source": [
    "std::thread t2 = std::thread(Vehicle(1));\n",
    "// std::thread t3 = t2; copy constructor is deleted.\n",
    "std::thread&& t3 = std::move(t2);"
   ]
  },
  {
   "cell_type": "markdown",
   "metadata": {},
   "source": [
    "# Lambdas"
   ]
  },
  {
   "cell_type": "code",
   "execution_count": 5,
   "metadata": {},
   "outputs": [
    {
     "name": "stderr",
     "output_type": "stream",
     "text": [
      "\u001b[1minput_line_11:6:1: \u001b[0m\u001b[0;1;35mwarning: \u001b[0m\u001b[1mcaptures will be by reference, not copy\u001b[0m\n",
      "auto f1 = [id]() { std::cout << \"ID = \" << id << std::endl; }; // OK, 'id' is captured by value\n",
      "\u001b[0;1;32m^\n",
      "\u001b[0m\u001b[1minput_line_11:10:1: \u001b[0m\u001b[0;1;35mwarning: \u001b[0m\u001b[1mcaptures will be by reference, not copy\u001b[0m\n",
      "auto f4 = [id]() mutable { std::cout << \"ID = \" << ++id << std::endl; }; // OK, 'id' may be modified\n",
      "\u001b[0;1;32m^\n",
      "\u001b[0m"
     ]
    },
    {
     "name": "stdout",
     "output_type": "stream",
     "text": [
      "ID = 1\n",
      "ID = 2\n",
      "ID = 3\n"
     ]
    }
   ],
   "source": [
    "// create lambdas\n",
    "int id = 0; // Define an integer variable\n",
    "\n",
    "//auto f0 = []() { std::cout << \"ID = \" << id << std::endl; }; // Error: 'id' cannot be accessed\n",
    "\n",
    "id++;\n",
    "auto f1 = [id]() { std::cout << \"ID = \" << id << std::endl; }; // OK, 'id' is captured by value\n",
    "\n",
    "id++;\n",
    "auto f2 = [&id]() { std::cout << \"ID = \" << id << std::endl; }; // OK, 'id' is captured by reference\n",
    "\n",
    "//auto f3 = [id]() { std::cout << \"ID = \" << ++id << std::endl; }; // Error, 'id' may not be modified\n",
    "\n",
    "auto f4 = [id]() mutable { std::cout << \"ID = \" << ++id << std::endl; }; // OK, 'id' may be modified\n",
    "\n",
    "// execute lambdas\n",
    "f1();\n",
    "f2();\n",
    "f4();"
   ]
  },
  {
   "cell_type": "code",
   "execution_count": 6,
   "metadata": {},
   "outputs": [
    {
     "name": "stdout",
     "output_type": "stream",
     "text": [
      "ID = 1\n"
     ]
    }
   ],
   "source": [
    "std::thread t4 = std::thread(f1);"
   ]
  },
  {
   "cell_type": "markdown",
   "metadata": {},
   "source": [
    "# Starting a Thread with Variadic Templates & Member Functions"
   ]
  },
  {
   "cell_type": "markdown",
   "metadata": {},
   "source": [
    "## 1 .Passing Arguments using a Variadic Template"
   ]
  },
  {
   "cell_type": "code",
   "execution_count": 7,
   "metadata": {},
   "outputs": [],
   "source": [
    "void printIDAndName(int id, std::string name)\n",
    "{\n",
    "    std::this_thread::sleep_for(std::chrono::milliseconds(100));\n",
    "    std::cout << \"ID = \" << id << \", name = \" << name << std::endl;\n",
    "}"
   ]
  },
  {
   "cell_type": "code",
   "execution_count": 8,
   "metadata": {},
   "outputs": [],
   "source": [
    "std::thread t5(printIDAndName, ++id, \"MyString\");"
   ]
  },
  {
   "cell_type": "code",
   "execution_count": 9,
   "metadata": {},
   "outputs": [],
   "source": [
    "void printName(std::string &name, int waitTime)\n",
    "{\n",
    "    std::this_thread::sleep_for(std::chrono::milliseconds(waitTime));\n",
    "    name += \" (from Thread)\";\n",
    "    std::cout << name << std::endl;\n",
    "}"
   ]
  },
  {
   "cell_type": "code",
   "execution_count": 10,
   "metadata": {},
   "outputs": [],
   "source": [
    "std::string name(\"MyThread\");\n",
    "\n",
    "// starting thread\n",
    "std::thread t6(printName, std::ref(name), 50)"
   ]
  },
  {
   "cell_type": "markdown",
   "metadata": {},
   "source": [
    "# "
   ]
  },
  {
   "cell_type": "code",
   "execution_count": 11,
   "metadata": {},
   "outputs": [],
   "source": [
    "class Vehicle2\n",
    "{\n",
    "public:\n",
    "    Vehicle2() : _id(0) {}\n",
    "    void addID(int id) { _id = id; }\n",
    "    void printID()\n",
    "    {\n",
    "        std::cout << \"Vehicle ID=\" << _id << std::endl;\n",
    "    }\n",
    "\n",
    "private:\n",
    "    int _id;\n",
    "};"
   ]
  },
  {
   "cell_type": "code",
   "execution_count": 12,
   "metadata": {},
   "outputs": [
    {
     "name": "stdout",
     "output_type": "stream",
     "text": [
      "ID = 3, name = MyString\n",
      "MyThread (from Thread)\n"
     ]
    }
   ],
   "source": [
    "Vehicle2 v1, v2;\n",
    "std::thread t7 = std::thread(&Vehicle2::addID, v1, 1); // call member function on object v\n",
    "std::thread t8 = std::thread(&Vehicle2::addID, &v2, 2); // call member function on object v"
   ]
  },
  {
   "cell_type": "code",
   "execution_count": null,
   "metadata": {},
   "outputs": [],
   "source": []
  }
 ],
 "metadata": {
  "kernelspec": {
   "display_name": "C++11",
   "language": "C++11",
   "name": "xcpp11"
  },
  "language_info": {
   "codemirror_mode": "text/x-c++src",
   "file_extension": ".cpp",
   "mimetype": "text/x-c++src",
   "name": "c++",
   "version": "11"
  }
 },
 "nbformat": 4,
 "nbformat_minor": 4
}
