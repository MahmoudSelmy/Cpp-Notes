{
 "cells": [
  {
   "cell_type": "code",
   "execution_count": 1,
   "metadata": {},
   "outputs": [],
   "source": [
    "#include <iostream>\n",
    "#include <thread>\n",
    "#include <future>"
   ]
  },
  {
   "cell_type": "markdown",
   "metadata": {},
   "source": [
    "# 1. Promises and Futures\n",
    "\n",
    "## The promise - future communication channel"
   ]
  },
  {
   "cell_type": "code",
   "execution_count": null,
   "metadata": {},
   "outputs": [],
   "source": [
    "void modifyMessage(std::promise<std::string> && prms, std::string message)\n",
    "{\n",
    "    std::this_thread::sleep_for(std::chrono::milliseconds(4000)); // simulate work\n",
    "    std::string modifiedMessage = message + \" has been modified\"; \n",
    "    prms.set_value(modifiedMessage);\n",
    "}"
   ]
  },
  {
   "cell_type": "code",
   "execution_count": null,
   "metadata": {},
   "outputs": [],
   "source": [
    "std::string messageToThread = \"My Message\";\n",
    "\n",
    "// create promise and future\n",
    "std::promise<std::string> prms;\n",
    "std::future<std::string> ftr = prms.get_future();\n",
    "\n",
    "// start thread and pass promise as argument\n",
    "std::thread t(modifyMessage, std::move(prms), messageToThread);\n",
    "\n",
    "// print original message to console\n",
    "std::cout << \"Original message from main(): \" << messageToThread << std::endl;\n",
    "\n",
    "// retrieve modified message via future and print to console\n",
    "std::string messageFromThread = ftr.get();\n",
    "std::cout << \"Modified message from thread(): \" << messageFromThread << std::endl;"
   ]
  },
  {
   "cell_type": "code",
   "execution_count": 2,
   "metadata": {},
   "outputs": [],
   "source": [
    "void divideByNumber(std::promise<double> &&prms, double num, double denom)\n",
    "{\n",
    "    std::this_thread::sleep_for(std::chrono::milliseconds(500)); // simulate work\n",
    "    try\n",
    "    {\n",
    "        if (denom == 0)\n",
    "            throw std::runtime_error(\"Exception from thread: Division by zero!\");\n",
    "        else\n",
    "            prms.set_value(num / denom);\n",
    "    }\n",
    "    catch (...)\n",
    "    {\n",
    "        prms.set_exception(std::current_exception());\n",
    "    }\n",
    "}"
   ]
  },
  {
   "cell_type": "code",
   "execution_count": 3,
   "metadata": {},
   "outputs": [
    {
     "name": "stderr",
     "output_type": "stream",
     "text": [
      "IncrementalExecutor::executeFunction: symbol '__emutls_v._ZSt11__once_call' unresolved while linking function '_GLOBAL__sub_I_cling_module_7'!\n",
      "IncrementalExecutor::executeFunction: symbol '__emutls_v._ZSt15__once_callable' unresolved while linking function '_GLOBAL__sub_I_cling_module_7'!\n"
     ]
    },
    {
     "ename": "Standard Exception",
     "evalue": "std::future_error: No associated state",
     "output_type": "error",
     "traceback": [
      "Standard Exception: std::future_error: No associated state"
     ]
    }
   ],
   "source": [
    "std::promise<double> prms;\n",
    "std::future<double> ftr = prms.get_future();\n",
    "\n",
    "// start thread and pass promise as argument\n",
    "double num = 42.0, denom = 0.0;\n",
    "std::thread t(divideByNumber, std::move(prms), num, denom);\n",
    "\n",
    "// retrieve result within try-catch-block\n",
    "try\n",
    "{\n",
    "    double result = ftr.get();\n",
    "    std::cout << \"Result = \" << result << std::endl;\n",
    "}\n",
    "catch (std::runtime_error e)\n",
    "{\n",
    "    std::cout << e.what() << std::endl;\n",
    "}"
   ]
  },
  {
   "cell_type": "markdown",
   "metadata": {},
   "source": [
    "# 2. Threads vs. Tasks\n",
    "\n",
    "# Starting threads with async\n",
    "\n",
    "\n",
    "The first change we are making is in the thread function: We are removing the promise from the argument list as well as the try-catch block. Also, the return type of the function is changed from void to double as the result of the computation will be channeled back to the main thread using a simple return. After these changes, the function has no knowledge of threads, nor of futures or promises - it is a simple function that takes two doubles as arguments and returns a double as a result. Also, it will throw an exception when a division by zero is attempted.\n",
    "\n",
    "one of the major differences between std::thread and std::async is that with the latter, the system decides wether the associated function should be run asynchronously or synchronously. By adjusting the launch parameters of std::async manually, we can directly influence wether the associated thread function will be executed synchronously or asynchronously.\n",
    "\n",
    "To conclude this section, a general comparison of task-based and thread-based programming is given in the following:\n",
    "\n",
    "With tasks, the system takes care of many details (e.g. join). With threads, the programmer is responsible for many details. As far as resources go, threads are usually more heavy-weight as they are generated by the operating system (OS). It takes time for the OS to be called and to allocate memory / stack / kernel data structures for the thread. Also, destroying the thread is expensive. Tasks on the other hand are more light-weight as they will be using a pool of already created threads (the \"thread pool\").\n",
    "\n",
    "Threads and tasks are used for different problems. Threads have more to do with latency. When you have functions that can block (e.g. file input, server connection), threads can avoid the program to be blocked, when e.g. the server is waiting for a response. Tasks on the other hand focus on throughput, where many operations are executed in parallel.\n",
    "\n",
    "The function template async runs the function f asynchronously (potentially in a separate thread which may be part of a thread pool) and returns a std::future that will eventually hold the result of that function call.\n",
    "\n"
   ]
  },
  {
   "cell_type": "code",
   "execution_count": null,
   "metadata": {},
   "outputs": [],
   "source": [
    "double divideByNumberAsync(double num, double denom)\n",
    "{\n",
    "    std::this_thread::sleep_for(std::chrono::milliseconds(500)); // simulate work\n",
    "\n",
    "    if (denom == 0)\n",
    "        throw std::runtime_error(\"Exception from thread: Division by zero!\");\n",
    "\n",
    "    return num / denom;\n",
    "}\n"
   ]
  },
  {
   "cell_type": "markdown",
   "metadata": {},
   "source": [
    "## Policies\n",
    "- the async flag is set \"asynchronous execution\"\n",
    "- the deferred flag is set \"lazy evaluation\"\n",
    "- If both the std::launch::async and std::launch::deferred flags are set in policy, it is up to the implementation whether to perform asynchronous execution or lazy evaluation.\n",
    "- If neither std::launch::async nor std::launch::deferred, nor any implementation-defined policy flag is set in policy, the behavior is undefined."
   ]
  },
  {
   "cell_type": "code",
   "execution_count": null,
   "metadata": {},
   "outputs": [],
   "source": [
    "double num = 42.0, denom = 2.0;\n",
    "std::future<double> ftr = std::async(std::launch::deferred, divideByNumber, num, denom);\n",
    "\n",
    "// retrieve result within try-catch-block\n",
    "try\n",
    "{\n",
    "    double result = ftr.get();\n",
    "    std::cout << \"Result = \" << result << std::endl;\n",
    "}\n",
    "catch (std::runtime_error e)\n",
    "{\n",
    "    std::cout << e.what() << std::endl;\n",
    "}"
   ]
  },
  {
   "cell_type": "code",
   "execution_count": null,
   "metadata": {},
   "outputs": [],
   "source": []
  }
 ],
 "metadata": {
  "kernelspec": {
   "display_name": "C++17",
   "language": "C++17",
   "name": "xcpp17"
  },
  "language_info": {
   "codemirror_mode": "text/x-c++src",
   "file_extension": ".cpp",
   "mimetype": "text/x-c++src",
   "name": "c++",
   "version": "17"
  }
 },
 "nbformat": 4,
 "nbformat_minor": 4
}
