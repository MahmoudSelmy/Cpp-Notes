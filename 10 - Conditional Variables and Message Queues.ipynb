{
 "cells": [
  {
   "cell_type": "markdown",
   "metadata": {},
   "source": [
    "# The Monitor Object Pattern\n",
    "\n",
    "One important step towards such a construct is to implement a monitor object, which is a design pattern that synchronizes concurrent method execution to ensure that only one method at a time runs within an object.\n",
    "\n",
    "It also allows an object's methods to cooperatively schedule their execution sequences. \n",
    "\n",
    "\n",
    "The problem solved by this pattern is based on the observation that many applications contain objects whose methods are invoked concurrently by multiple client threads.\n",
    "\n",
    "- These methods often modify the state of their objects, for example by adding data to an internal vector\n",
    "  - For such concurrent programs to execute correctly, it is necessary to synchronize and schedule access to the objects very carefully."
   ]
  },
  {
   "cell_type": "code",
   "execution_count": 1,
   "metadata": {},
   "outputs": [],
   "source": [
    "#include <iostream>\n",
    "#include <thread>\n",
    "#include <vector>\n",
    "#include <future>\n",
    "#include <mutex>"
   ]
  },
  {
   "cell_type": "code",
   "execution_count": 2,
   "metadata": {},
   "outputs": [],
   "source": [
    "class Vehicle\n",
    "{\n",
    "public:\n",
    "    Vehicle(int id) : _id(id) {}\n",
    "    int getID() { return _id; }\n",
    "\n",
    "private:\n",
    "    int _id;\n",
    "};\n",
    "\n",
    "class WaitingVehicles1\n",
    "{\n",
    "public:\n",
    "    WaitingVehicles1() {}\n",
    "\n",
    "    void printIDs()\n",
    "    {\n",
    "        std::lock_guard<std::mutex> myLock(_mutex); // lock is released when myLock goes out of scope\n",
    "        for(auto &v : _vehicles)\n",
    "            std::cout << \"   Vehicle #\" << v.getID() << \" is now waiting in the queue\" << std::endl;\n",
    "        \n",
    "    }\n",
    "\n",
    "    void pushBack(Vehicle &&v)\n",
    "    {\n",
    "        // perform vector modification under the lock\n",
    "        std::lock_guard<std::mutex> uLock(_mutex);\n",
    "        std::cout << \"   Vehicle #\" << v.getID() << \" will be added to the queue\" << std::endl; \n",
    "        _vehicles.emplace_back(std::move(v));\n",
    "\n",
    "        // simulate some work\n",
    "        std::this_thread::sleep_for(std::chrono::milliseconds(500));\n",
    "    }\n",
    "\n",
    "private:\n",
    "    std::vector<Vehicle> _vehicles; // list of all vehicles waiting to enter this intersection\n",
    "    std::mutex _mutex;\n",
    "};\n"
   ]
  },
  {
   "cell_type": "code",
   "execution_count": 3,
   "metadata": {},
   "outputs": [],
   "source": [
    "void run()\n",
    "{\n",
    "    // create monitor object as a shared pointer to enable access by multiple threads\n",
    "    std::shared_ptr<WaitingVehicles1> queue(new WaitingVehicles1);\n",
    "\n",
    "    std::cout << \"Spawning threads...\" << std::endl;\n",
    "    std::vector<std::future<void>> futures;\n",
    "    for (int i = 0; i < 10; ++i)\n",
    "    {\n",
    "        // create a new Vehicle instance and move it into the queue\n",
    "        Vehicle v(i);\n",
    "        futures.emplace_back(std::async(std::launch::async, &WaitingVehicles1::pushBack, queue, std::move(v)));\n",
    "    }\n",
    "\n",
    "    std::for_each(futures.begin(), futures.end(), [](std::future<void> &ftr) {\n",
    "        ftr.wait();\n",
    "    });\n",
    "\n",
    "    std::cout << \"Collecting results...\" << std::endl;\n",
    "    queue->printIDs();\n",
    "}"
   ]
  },
  {
   "cell_type": "code",
   "execution_count": 4,
   "metadata": {},
   "outputs": [
    {
     "name": "stderr",
     "output_type": "stream",
     "text": [
      "IncrementalExecutor::executeFunction: symbol '__emutls_v._ZSt11__once_call' unresolved while linking [cling interface function]!\n",
      "IncrementalExecutor::executeFunction: symbol '__emutls_v._ZSt15__once_callable' unresolved while linking [cling interface function]!\n"
     ]
    },
    {
     "ename": "Interpreter Error",
     "evalue": "",
     "output_type": "error",
     "traceback": [
      "Interpreter Error: "
     ]
    }
   ],
   "source": [
    "run()"
   ]
  },
  {
   "cell_type": "markdown",
   "metadata": {},
   "source": [
    "push_back call when type is user-defined type\n",
    "\n",
    "If we try to append the object directly (before the object is created) to the vector using push_back, then in this process a temporary object is created first. While creating the temporary object three steps occur:\n",
    " \n",
    "i)A constructor is called to create the temporary object.\n",
    " \n",
    "ii)A copy of the temporary object is then created in the vector.\n",
    " \n",
    "iii)After copying the object the destructor is called to destroy the temporary object.\n",
    "\n",
    "The verification of the three processes occurring when push_back is called is shown at the bottom of this post, inside the ‘Side Note’ section.\n",
    "\n",
    "emplace_back call when type is user-defined type\n",
    "\n",
    "If emplace_back is used the temporary object is not created instead the object is created directly in the vector. The extraneous creation of the temporary object is avoided with emplace_back. Hence the performance is enhanced."
   ]
  },
  {
   "cell_type": "code",
   "execution_count": null,
   "metadata": {},
   "outputs": [],
   "source": [
    "#include <iostream>\n",
    "#include <thread>\n",
    "#include <vector>\n",
    "#include <future>\n",
    "#include <mutex>\n",
    "\n",
    "class Vehicle\n",
    "{\n",
    "public:\n",
    "    Vehicle(int id) : _id(id) {}\n",
    "    int getID() { return _id; }\n",
    "\n",
    "private:\n",
    "    int _id;\n",
    "};\n",
    "\n",
    "class WaitingVehicles\n",
    "{\n",
    "public:\n",
    "    WaitingVehicles() : _numVehicles(0) {}\n",
    "\n",
    "    int getNumVehicles() \n",
    "    { \n",
    "        std::lock_guard<std::mutex> uLock(_mutex);\n",
    "        return _numVehicles; \n",
    "    }\n",
    "\n",
    "    bool dataIsAvailable()\n",
    "    {\n",
    "        std::lock_guard<std::mutex> myLock(_mutex);\n",
    "        return !_vehicles.empty();\n",
    "    }\n",
    "\n",
    "    Vehicle popBack()\n",
    "    {\n",
    "        // perform vector modification under the lock\n",
    "        std::lock_guard<std::mutex> uLock(_mutex);\n",
    "\n",
    "        // remove last vector element from queue\n",
    "        Vehicle v = std::move(_vehicles.back());\n",
    "        _vehicles.pop_back();\n",
    "        --_numVehicles;\n",
    "\n",
    "        return v; // will not be copied due to return value optimization (RVO) in C++\n",
    "    }\n",
    "\n",
    "    void pushBack(Vehicle &&v)\n",
    "    {\n",
    "        // simulate some work\n",
    "        std::this_thread::sleep_for(std::chrono::milliseconds(100));\n",
    "\n",
    "        // perform vector modification under the lock\n",
    "        std::lock_guard<std::mutex> uLock(_mutex);\n",
    "\n",
    "        // add vector to queue\n",
    "        std::cout << \"   Vehicle #\" << v.getID() << \" will be added to the queue\" << std::endl;\n",
    "        _vehicles.emplace_back(std::move(v));\n",
    "        ++_numVehicles;\n",
    "    }\n",
    "\n",
    "private:\n",
    "    std::vector<Vehicle> _vehicles; // list of all vehicles waiting to enter this intersection\n",
    "    std::mutex _mutex;\n",
    "    int _numVehicles;\n",
    "};"
   ]
  },
  {
   "cell_type": "markdown",
   "metadata": {},
   "source": [
    "<span style=\"color: red\">\n",
    "    The polling loop we have used in the previous example has not been programmed optimally: As long as the program is running, the while-loop will keep the processor busy, constantly asking wether new data is available. In the following, we will look at a better way to solve this problem without putting too much load on the processor.<br>\n",
    "</span>\n",
    "\n",
    "<span style=\"color: green\">\n",
    "The alternative to a polling loop is for the main thread to block and wait for a signal that new data is available. This would prevent the infinite loop from keeping the processor busy.<br>\n",
    "</span>\n",
    "\n",
    "A `std::condition_variable` has a method `wait()`, which blocks, when it is called by a thread. \n",
    "\n",
    "The condition variable is kept blocked until it is released by another thread. \n",
    "\n",
    "The release works via the method `notify_one()` or the `notify_all` method. \n",
    "\n",
    "The key difference between the two methods is that notify_one will only wake up a single waiting thread while `notify_all` will wake up all the waiting threads at once."
   ]
  },
  {
   "cell_type": "markdown",
   "metadata": {},
   "source": [
    "# Senario 1\n",
    "\n",
    "The consumer thread checks `dataIsAvailable()` and since it is false, the consumer thread blocks and waits on the condition variable. Later in time, the producer thread sets dataIsAvailable to true and calls `notify_one` on the condition variable. At this point, the consumer wakes up and proceeds with its work.\n",
    "\n",
    ">>>>> ![](./images/1.png)"
   ]
  },
  {
   "cell_type": "markdown",
   "metadata": {},
   "source": [
    "# Senario 2\n",
    "\n",
    "Here, the producer thread comes first, sets `dataIsAvailable()` to true and calls `notify_one`. Then, the consumer thread comes and checks `dataIsAvailable()` and finds it to be true - so it does not call wait and proceeds directly with its work. \n",
    "\n",
    "Even though the notification is lost, it does not cause a problem in this construct - the message has been passed successfully through dataIsAvailable and the wait-lock has been avoided.\n",
    "\n",
    "\n",
    ">>>>> ![](./images/2.png)"
   ]
  },
  {
   "cell_type": "markdown",
   "metadata": {},
   "source": [
    "# Senario 3\n",
    "\n",
    "In an ideal (non-concurrent) world, these two scenarios would most probably be sufficient to describe to possible combinations. But in concurrent programming, things are not so easy. As seen in the diagrams, there are four atomic operations, two for each thread. So when executed often enough, all possible interleavings will show themselves - and we have to find the ones that still cause a problem.\n",
    "\n",
    ">>>>> ![](./images/3.png)\n",
    "\n",
    "The consumer thread reads `dataIsAvailable()`, which is false in the example. Then, the producer sets `dataIsAvailable()` to true and calls notify. Due to this unlucky interleaving of actions, the consumer thread calls `wait()` because it has seen `dataIsAvailable()` as false. \n",
    "\n",
    "This is possible because the consumer thread tasks are not a joint atomic operation but may be separated by the scheduler and interleaved with some other tasks - in this case the two actions performed by the producer thread. The problem here is that after calling wait, the consumer thread will never wake up again. "
   ]
  },
  {
   "cell_type": "markdown",
   "metadata": {},
   "source": [
    "# Senario 3 Solution\n",
    "\n",
    "<br>\n",
    "\n",
    "<span style=\"color: green\">\n",
    "One quick idea for a solution which might come to mind would be to perform the two operations dataIsAvailable and wait under a locked mutex. While this would effectively prevent the interleaving of tasks between different threads, it would also prevent another thread from ever modifying dataIsAvailable again.<br>\n",
    "</span>\n",
    "\n",
    ">>>>> ![](./images/4.png)\n",
    "\n"
   ]
  },
  {
   "cell_type": "code",
   "execution_count": null,
   "metadata": {},
   "outputs": [],
   "source": [
    "class WaitingVehicles\n",
    "{\n",
    "public:\n",
    "    WaitingVehicles() {}\n",
    "\n",
    "    Vehicle popBack()\n",
    "    {\n",
    "        // perform vector modification under the lock\n",
    "        std::unique_lock<std::mutex> uLock(_mutex);\n",
    "        _cond.wait(uLock, [this] { return !_vehicles.empty(); }); // pass unique lock to condition variable\n",
    "\n",
    "        // remove last vector element from queue\n",
    "        Vehicle v = std::move(_vehicles.back());\n",
    "        _vehicles.pop_back();\n",
    "\n",
    "        return v; // will not be copied due to return value optimization (RVO) in C++\n",
    "    }\n",
    "\n",
    "    void pushBack(Vehicle &&v)\n",
    "    {\n",
    "        // simulate some work\n",
    "        std::this_thread::sleep_for(std::chrono::milliseconds(100));\n",
    "\n",
    "        // perform vector modification under the lock\n",
    "        std::lock_guard<std::mutex> uLock(_mutex);\n",
    "\n",
    "        // add vector to queue\n",
    "        std::cout << \"   Vehicle #\" << v.getID() << \" will be added to the queue\" << std::endl;\n",
    "        _vehicles.push_back(std::move(v));\n",
    "        _cond.notify_one(); // notify client after pushing new Vehicle into vector\n",
    "    }\n",
    "\n",
    "private:\n",
    "    std::mutex _mutex;\n",
    "    std::condition_variable _cond;\n",
    "    std::vector<Vehicle> _vehicles; // list of all vehicles waiting to enter this intersection\n",
    "};"
   ]
  }
 ],
 "metadata": {
  "kernelspec": {
   "display_name": "C++17",
   "language": "C++17",
   "name": "xcpp17"
  },
  "language_info": {
   "codemirror_mode": "text/x-c++src",
   "file_extension": ".cpp",
   "mimetype": "text/x-c++src",
   "name": "c++",
   "version": "17"
  }
 },
 "nbformat": 4,
 "nbformat_minor": 4
}
