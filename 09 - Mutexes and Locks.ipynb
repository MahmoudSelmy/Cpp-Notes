{
 "cells": [
  {
   "cell_type": "code",
   "execution_count": null,
   "metadata": {},
   "outputs": [],
   "source": [
    "#include <iostream>\n",
    "#include <thread>\n",
    "#include <vector>\n",
    "#include <future>\n",
    "#include <mutex>\n",
    "#include<algorithm>"
   ]
  },
  {
   "cell_type": "markdown",
   "metadata": {},
   "source": [
    "# Using mutex to protect data"
   ]
  },
  {
   "cell_type": "code",
   "execution_count": null,
   "metadata": {},
   "outputs": [],
   "source": [
    "class Vehicle\n",
    "{\n",
    "public:\n",
    "    Vehicle(int id) : _id(id) {}\n",
    "\n",
    "private:\n",
    "    int _id;\n",
    "};"
   ]
  },
  {
   "cell_type": "code",
   "execution_count": null,
   "metadata": {},
   "outputs": [],
   "source": [
    "class WaitingVehicles\n",
    "{\n",
    "public:\n",
    "    WaitingVehicles() {}\n",
    "\n",
    "    // getters / setters\n",
    "    void printSize()\n",
    "    {\n",
    "        _mutex.lock();\n",
    "        std::cout << \"#vehicles = \" << _vehicles.size() << std::endl;\n",
    "        _mutex.unlock();\n",
    "    }\n",
    "\n",
    "    // typical behaviour methods\n",
    "    void pushBack(Vehicle &&v)\n",
    "    {\n",
    "        _mutex.lock();\n",
    "        _vehicles.emplace_back(std::move(v)); // data race would cause an exception\n",
    "        _mutex.unlock();\n",
    "    }\n",
    "\n",
    "private:\n",
    "    std::vector<Vehicle> _vehicles; // list of all vehicles waiting to enter this intersection\n",
    "    std::mutex _mutex;\n",
    "};"
   ]
  },
  {
   "cell_type": "markdown",
   "metadata": {},
   "source": [
    "# Using timed_mutex\n",
    "\n",
    "In the following, a short overview of the different available mutex types is given:\n",
    "\n",
    "- `mutex`: provides the core functions lock() and unlock() and the non-blocking try_lock() method that returns if the mutex is not available.\n",
    "\n",
    "- `recursive_mutex`: allows multiple acquisitions of the mutex from the same thread.\n",
    "\n",
    "- `timed_mutex`: similar to mutex, but it comes with two more methods try_lock_for() and try_lock_until() that try to acquire the mutex for a period of time or until a moment in time is reached.\n",
    "\n",
    "- `recursive_timed_mutex`: is a combination of timed_mutex and recursive_mutex."
   ]
  },
  {
   "cell_type": "markdown",
   "metadata": {},
   "source": [
    "# Deadlock 1\n",
    "\n",
    "Using mutexes can significantly reduce the risk of data races as seen in the example above. But imagine what would happen if an exception was thrown while executing code in the critical section, i.e. between lock and unlock. In such a case, the mutex would remain locked indefinitely and no other thread could unlock it - the program would most likely freeze."
   ]
  },
  {
   "cell_type": "code",
   "execution_count": null,
   "metadata": {},
   "outputs": [],
   "source": [
    "void divideByNumber(double num, double denom)\n",
    "{\n",
    "    try\n",
    "    {\n",
    "        // divide num by denom but throw an exception if division by zero is attempted\n",
    "        if (denom != 0) \n",
    "        {\n",
    "            result = num / denom;\n",
    "            std::this_thread::sleep_for(std::chrono::milliseconds(1)); \n",
    "            printResult(denom);\n",
    "        }\n",
    "        else\n",
    "        {\n",
    "            throw std::invalid_argument(\"Exception from thread: Division by zero!\");\n",
    "        }\n",
    "    }\n",
    "    catch (const std::invalid_argument &e)\n",
    "    {\n",
    "        // notify the user about the exception and return\n",
    "        std::cout << e.what() << std::endl;\n",
    "        return; \n",
    "    }\n",
    "}"
   ]
  },
  {
   "cell_type": "markdown",
   "metadata": {},
   "source": [
    "# Deadlock 2\n",
    "\n",
    "A second type of deadlock is a state in which two or more threads are blocked because each thread waits for the resource of the other thread to be released before releasing its resource. The result of the deadlock is a complete standstill."
   ]
  },
  {
   "cell_type": "code",
   "execution_count": null,
   "metadata": {},
   "outputs": [],
   "source": [
    "std::mutex mutex1, mutex2;"
   ]
  },
  {
   "cell_type": "code",
   "execution_count": null,
   "metadata": {},
   "outputs": [],
   "source": [
    "void ThreadA()\n",
    "{\n",
    "    // Creates deadlock problem\n",
    "    mutex2.lock();\n",
    "    std::cout << \"Thread A\" << std::endl;\n",
    "    mutex1.lock();\n",
    "    mutex2.unlock();\n",
    "    mutex1.unlock();\n",
    "}"
   ]
  },
  {
   "cell_type": "code",
   "execution_count": null,
   "metadata": {},
   "outputs": [],
   "source": [
    "void ThreadB()\n",
    "{\n",
    "    // Creates deadlock problem\n",
    "    mutex1.lock();\n",
    "    std::cout << \"Thread B\" << std::endl;\n",
    "    mutex2.lock();\n",
    "    mutex1.unlock();\n",
    "    mutex2.unlock();\n",
    "}"
   ]
  },
  {
   "cell_type": "markdown",
   "metadata": {},
   "source": [
    "# Avoiding deadlocks with `std::lock()`"
   ]
  },
  {
   "cell_type": "code",
   "execution_count": null,
   "metadata": {},
   "outputs": [],
   "source": [
    "void ThreadA()\n",
    "{\n",
    "    // Ensure that locks are always executed in the same order\n",
    "    // Locks all the objects passed as arguments, blocking the calling thread if necessary.\n",
    "    std::lock(mutex1, mutex2);\n",
    "    // std::adopt_lock : assume the calling thread already has ownership of the mutex\n",
    "    // because lock has been done in the previous step\n",
    "    std::lock_guard<std::mutex> lock2(mutex2, std::adopt_lock);\n",
    "    std::cout << \"Thread A\" << std::endl;\n",
    "    std::lock_guard<std::mutex> lock1(mutex1, std::adopt_lock);\n",
    "    std::cout << \"Thread A\" << std::endl;\n",
    "}"
   ]
  },
  {
   "cell_type": "code",
   "execution_count": null,
   "metadata": {},
   "outputs": [],
   "source": [
    "void ThreadB()\n",
    "{\n",
    "    std::lock(mutex1, mutex2);\n",
    "    std::lock_guard<std::mutex> lock1(mutex1, std::adopt_lock);\n",
    "    std::cout << \"Thread B\" << std::endl;\n",
    "    std::lock_guard<std::mutex> lock2(mutex2, std::adopt_lock);\n",
    "    std::cout << \"Thread B\" << std::endl;\n",
    "}"
   ]
  },
  {
   "cell_type": "code",
   "execution_count": null,
   "metadata": {},
   "outputs": [],
   "source": [
    "void ExecuteThreads()\n",
    "{\n",
    "    std::thread t1( ThreadA );\n",
    "    std::thread t2( ThreadB );\n",
    " \n",
    "    t1.join();\n",
    "    t2.join();\n",
    " \n",
    "    std::cout << \"Finished\" << std::endl;\n",
    "}"
   ]
  },
  {
   "cell_type": "code",
   "execution_count": null,
   "metadata": {},
   "outputs": [],
   "source": [
    "ExecuteThreads();"
   ]
  },
  {
   "cell_type": "markdown",
   "metadata": {},
   "source": [
    "# lock_guard Vs. unique_lock\n",
    "\n",
    "- `std::lock_guard` :\n",
    "  - `std::lock_guard guard1(mutex);` : the constructor of guard1 locks the mutex. At the end of guard1’s life, the destructor unlocks the mutex. There is no other possibility. In fact, the std::lock_guard class doesn’t have any other member function.\n",
    "\n",
    "- `std::unique_lock` :\n",
    "  - `std::unique_lock guard2(mutex);` : The constructor of guard2 also locks the mutex and the destructor of guard2 also unlocks the mutex. But the std::unique_lock has additional functionalities.\n",
    "     1. The programmer is able to unlock the mutex with the help of the guard object `guard2.unlock();`\n",
    "     1. The programmer can also lock it again `guard2.lock();`\n",
    "     \n",
    "  - `std::condition_variable::wait()`: \n",
    "    - requires std::unique_lock as an input.\n",
    "    - unlocks the mutex and waits for the `std::condition_variable.notify_one()` member function call. Then, `wait(...)` reacquires the lock and proceeds."
   ]
  },
  {
   "cell_type": "markdown",
   "metadata": {},
   "source": [
    "# Condition Variables\n",
    "\n",
    "Purposes:\n",
    "1. Notify other threads:\n",
    "   1. `notify_one()`\n",
    "   1. `notify_all()`\n",
    "1. Waiting for some conditions\n",
    "\n",
    "Producer/Consumer:\n",
    "1. Consumer:\n",
    "   1. use `std::unique_lock` to pass it to the `std::condition_variable` because `std::condition_variable::wait()` will use it to unloack the `shared_mutex` before start waiting.\n",
    "   1. `std::condition_variable::wait()` unloack the `shared_mutex` and wait to be notified in order to continue.\n",
    "   1. When producer call `notify()`,  The `std::condition_variable::wait()` will lock `shared_mutex` again to continue execution.\n",
    "1. Producer:\n",
    "   1. accuire `shared_mutex` using `std::lock_guard` in order not to conflict with `step3 consumer`.\n",
    "   2. call `notify()`"
   ]
  },
  {
   "cell_type": "code",
   "execution_count": 1,
   "metadata": {},
   "outputs": [],
   "source": [
    "#include <iostream>\n",
    "#include <thread>\n",
    "#include <vector>\n",
    "#include <future>\n",
    "#include <mutex>"
   ]
  },
  {
   "cell_type": "code",
   "execution_count": 2,
   "metadata": {},
   "outputs": [],
   "source": [
    "std::condition_variable cv;\n",
    "std::mutex m;\n",
    "int balance = 0;"
   ]
  },
  {
   "cell_type": "code",
   "execution_count": 3,
   "metadata": {},
   "outputs": [],
   "source": [
    "void Producer()\n",
    "{\n",
    "    std::lock_guard<std::mutex> lg(m);\n",
    "    balance += 100;\n",
    "    std::cout << \"Amount added\" << std::endl;\n",
    "    cv.notify_one();\n",
    "}"
   ]
  },
  {
   "cell_type": "code",
   "execution_count": 4,
   "metadata": {},
   "outputs": [],
   "source": [
    "void Consumer()\n",
    "{\n",
    "    std::unique_lock<std::mutex> ul(m);\n",
    "    cv.wait(ul, []{return balance != 0;});\n",
    "    balance -= 50;\n",
    "    std::cout << \"Amount deducted\" << std::endl;\n",
    "}"
   ]
  },
  {
   "cell_type": "code",
   "execution_count": 5,
   "metadata": {},
   "outputs": [
    {
     "name": "stdout",
     "output_type": "stream",
     "text": [
      "Amount added\n",
      "Amount deducted\n"
     ]
    }
   ],
   "source": [
    "std::thread t1(Consumer);\n",
    "std::thread t2(Producer);\n",
    "t1.join();\n",
    "t2.join();"
   ]
  },
  {
   "cell_type": "code",
   "execution_count": null,
   "metadata": {},
   "outputs": [],
   "source": []
  }
 ],
 "metadata": {
  "kernelspec": {
   "display_name": "C++17",
   "language": "C++17",
   "name": "xcpp17"
  },
  "language_info": {
   "codemirror_mode": "text/x-c++src",
   "file_extension": ".cpp",
   "mimetype": "text/x-c++src",
   "name": "c++",
   "version": "17"
  }
 },
 "nbformat": 4,
 "nbformat_minor": 4
}
