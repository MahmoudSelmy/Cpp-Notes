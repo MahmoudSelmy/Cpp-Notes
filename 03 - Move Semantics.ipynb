{
 "cells": [
  {
   "cell_type": "markdown",
   "metadata": {},
   "source": [
    "# Rvalue references and std::move\n",
    "\n",
    "As discussed in the previous section on rvalue references, this is interesting from two perspectives:\n",
    "\n",
    "- Passing values like this improves performance as no temporary copy needs to be made anymore and\n",
    "- ownership changes, since the object the reference binds to has been abandoned by the caller and now binds to a handle which is available only to the receiver. This could not have been achieved with lvalue references as any change to the object that binds to the lvalue reference would also be visible on the caller side.\n",
    "\n",
    "If function returns an instance by value. In such a case, the compiler creates a temporary copy of the object as an rvalue, which is passed to the copy constructor."
   ]
  },
  {
   "cell_type": "markdown",
   "metadata": {},
   "source": [
    "# Rule Of Five\n",
    "\n",
    "- Destructor\n",
    "- Copy Constructor\n",
    "- Assignment Operator\n",
    "- Move Constructor\n",
    "- Move Assignment Operator"
   ]
  },
  {
   "cell_type": "markdown",
   "metadata": {},
   "source": [
    "# When are move semantics used?\n",
    "\n",
    "Now that we have seen how move semantics work, let us take a look at situations where they actually apply.\n",
    "\n",
    "- One of the primary areas of application are cases, where heavy-weight objects need to be passed around in a program. Copying these without move semantics can cause series performance issues. The idea in this scenario is to create the object a single time and then \"simply\" move it around using rvalue references and move semantics.\n",
    "\n",
    "- A second area of application are cases where ownership needs to be transferred (such as with unique pointers, as we will soon see). The primary difference to shared references is that with move semantics we are not sharing anything but instead we are ensuring through a smart policy that only a single object at a time has access to and thus owns the resource."
   ]
  },
  {
   "cell_type": "code",
   "execution_count": 1,
   "metadata": {},
   "outputs": [
    {
     "name": "stderr",
     "output_type": "stream",
     "text": [
      "\u001b[1minput_line_7:3:5: \u001b[0m\u001b[0;1;31merror: \u001b[0m\u001b[1munknown type name 'MyMovableClass'\u001b[0m\n",
      "    MyMovableClass obj1(100), obj2(200); // constructor\n",
      "\u001b[0;1;32m    ^\n",
      "\u001b[0m\u001b[1minput_line_7:3:36: \u001b[0m\u001b[0;1;31merror: \u001b[0m\u001b[1mexpected ';' at end of declaration\u001b[0m\n",
      "    MyMovableClass obj1(100), obj2(200); // constructor\n",
      "\u001b[0;1;32m                                   ^\n",
      "\u001b[0m\u001b[0;32m                                   ;\n",
      "\u001b[0m\u001b[1minput_line_7:4:5: \u001b[0m\u001b[0;1;31merror: \u001b[0m\u001b[1munknown type name 'MyMovableClass'\u001b[0m\n",
      "    MyMovableClass obj3(obj1); // copy constructor\n",
      "\u001b[0;1;32m    ^\n",
      "\u001b[0m\u001b[1minput_line_7:5:5: \u001b[0m\u001b[0;1;31merror: \u001b[0m\u001b[1munknown type name 'MyMovableClass'\u001b[0m\n",
      "    MyMovableClass obj4 = obj1; // copy constructor\n",
      "\u001b[0;1;32m    ^\n",
      "\u001b[0m\u001b[1minput_line_7:6:12: \u001b[0m\u001b[0;1;31merror: \u001b[0m\u001b[1muse of undeclared identifier 'obj2'\u001b[0m\n",
      "    obj4 = obj2; // copy assignment operator\n",
      "\u001b[0;1;32m           ^\n",
      "\u001b[0m"
     ]
    },
    {
     "ename": "Interpreter Error",
     "evalue": "",
     "output_type": "error",
     "traceback": [
      "Interpreter Error: "
     ]
    }
   ],
   "source": [
    "int main()\n",
    "{\n",
    "    MyMovableClass obj1(100), obj2(200); // constructor\n",
    "\n",
    "    MyMovableClass obj3(obj1); // copy constructor\n",
    "\n",
    "    MyMovableClass obj4 = obj1; // copy constructor\n",
    "\n",
    "    obj4 = obj2; // copy assignment operator\n",
    "\n",
    "    return 0;\n",
    "}"
   ]
  },
  {
   "cell_type": "code",
   "execution_count": 2,
   "metadata": {},
   "outputs": [
    {
     "name": "stderr",
     "output_type": "stream",
     "text": [
      "\u001b[1minput_line_8:3:5: \u001b[0m\u001b[0;1;31merror: \u001b[0m\u001b[1munknown type name 'MyMovableClass'\u001b[0m\n",
      "    MyMovableClass obj1(100); // constructor\n",
      "\u001b[0;1;32m    ^\n",
      "\u001b[0m\u001b[1minput_line_8:4:12: \u001b[0m\u001b[0;1;31merror: \u001b[0m\u001b[1muse of undeclared identifier 'MyMovableClass'\u001b[0m\n",
      "    obj1 = MyMovableClass(200); // move assignment operator\n",
      "\u001b[0;1;32m           ^\n",
      "\u001b[0m\u001b[1minput_line_8:5:5: \u001b[0m\u001b[0;1;31merror: \u001b[0m\u001b[1munknown type name 'MyMovableClass'\u001b[0m\n",
      "    MyMovableClass obj2 = MyMovableClass(300); // move constructor \n",
      "\u001b[0;1;32m    ^\n",
      "\u001b[0m\u001b[1minput_line_8:5:27: \u001b[0m\u001b[0;1;31merror: \u001b[0m\u001b[1muse of undeclared identifier 'MyMovableClass'\u001b[0m\n",
      "    MyMovableClass obj2 = MyMovableClass(300); // move constructor \n",
      "\u001b[0;1;32m                          ^\n",
      "\u001b[0m"
     ]
    },
    {
     "ename": "Interpreter Error",
     "evalue": "",
     "output_type": "error",
     "traceback": [
      "Interpreter Error: "
     ]
    }
   ],
   "source": [
    "int main()\n",
    "{\n",
    "    MyMovableClass obj1(100); // constructor\n",
    "\n",
    "    obj1 = MyMovableClass(200); // move assignment operator\n",
    "\n",
    "    MyMovableClass obj2 = MyMovableClass(300); // move constructor \n",
    "\n",
    "    return 0;\n",
    "}"
   ]
  },
  {
   "cell_type": "code",
   "execution_count": 3,
   "metadata": {},
   "outputs": [
    {
     "name": "stderr",
     "output_type": "stream",
     "text": [
      "\u001b[1minput_line_9:3:5: \u001b[0m\u001b[0;1;31merror: \u001b[0m\u001b[1munknown type name 'MyMovableClass'\u001b[0m\n",
      "    MyMovableClass obj1(100); // constructor\n",
      "\u001b[0;1;32m    ^\n",
      "\u001b[0m"
     ]
    },
    {
     "ename": "Interpreter Error",
     "evalue": "",
     "output_type": "error",
     "traceback": [
      "Interpreter Error: "
     ]
    }
   ],
   "source": [
    "int main()\n",
    "{\n",
    "    MyMovableClass obj1(100); // constructor\n",
    "\n",
    "    useObject(std::move(obj1)); // move lvalue\n",
    "    return 0;\n",
    "}"
   ]
  },
  {
   "cell_type": "code",
   "execution_count": null,
   "metadata": {},
   "outputs": [],
   "source": []
  }
 ],
 "metadata": {
  "kernelspec": {
   "display_name": "C++17",
   "language": "C++17",
   "name": "xcpp17"
  },
  "language_info": {
   "codemirror_mode": "text/x-c++src",
   "file_extension": ".cpp",
   "mimetype": "text/x-c++src",
   "name": "c++",
   "version": "17"
  }
 },
 "nbformat": 4,
 "nbformat_minor": 4
}
