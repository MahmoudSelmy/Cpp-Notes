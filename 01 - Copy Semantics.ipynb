{
 "cells": [
  {
   "cell_type": "markdown",
   "metadata": {},
   "source": [
    "# Copying Policies:\n",
    "\n",
    "1. Default copying\n",
    "1. No copying\n",
    "1. Exclusive ownership\n",
    "1. Deep copying\n",
    "1. Shared ownership"
   ]
  },
  {
   "cell_type": "code",
   "execution_count": null,
   "metadata": {},
   "outputs": [],
   "source": [
    "#include <iostream>"
   ]
  },
  {
   "cell_type": "markdown",
   "metadata": {},
   "source": [
    "## 1. Default copying \"Shallow Copy\""
   ]
  },
  {
   "cell_type": "code",
   "execution_count": null,
   "metadata": {},
   "outputs": [],
   "source": [
    "class MyClass\n",
    "{\n",
    "private:\n",
    "    int *_myInt;\n",
    "\n",
    "public:\n",
    "    MyClass()\n",
    "    {\n",
    "        _myInt = (int *)malloc(sizeof(int));\n",
    "    };\n",
    "    ~MyClass()\n",
    "    {\n",
    "        free(_myInt);\n",
    "    };\n",
    "    void printOwnAddress() { std::cout << \"Own address on the stack is \" << this << std::endl; }\n",
    "    void printMemberAddress() { std::cout << \"Managing memory block on the heap at \" << _myInt << std::endl; }\n",
    "};"
   ]
  },
  {
   "cell_type": "code",
   "execution_count": null,
   "metadata": {},
   "outputs": [],
   "source": [
    "void run_shallow()\n",
    "{\n",
    "    // instantiate object 1\n",
    "    MyClass myClass1;\n",
    "    myClass1.printOwnAddress();\n",
    "    myClass1.printMemberAddress();\n",
    "\n",
    "    // copy object 1 into object 2\n",
    "    MyClass myClass2(myClass1); // copy constructor\n",
    "    myClass2.printOwnAddress();\n",
    "    myClass2.printMemberAddress();\n",
    "}"
   ]
  },
  {
   "cell_type": "code",
   "execution_count": null,
   "metadata": {},
   "outputs": [],
   "source": [
    "run_shallow();"
   ]
  },
  {
   "cell_type": "markdown",
   "metadata": {},
   "source": [
    "## 2. No copying"
   ]
  },
  {
   "cell_type": "code",
   "execution_count": null,
   "metadata": {},
   "outputs": [],
   "source": [
    "class NoCopyClass1\n",
    "{\n",
    "private:\n",
    "    NoCopyClass1(const NoCopyClass1 &);\n",
    "    NoCopyClass1 &operator=(const NoCopyClass1 &);\n",
    "\n",
    "public:\n",
    "    NoCopyClass1(){};\n",
    "};"
   ]
  },
  {
   "cell_type": "code",
   "execution_count": null,
   "metadata": {},
   "outputs": [],
   "source": [
    "class NoCopyClass2\n",
    "{\n",
    "public:\n",
    "    NoCopyClass2(){}\n",
    "    NoCopyClass2(const NoCopyClass2 &) = delete;\n",
    "    NoCopyClass2 &operator=(const NoCopyClass2 &) = delete;\n",
    "};"
   ]
  },
  {
   "cell_type": "markdown",
   "metadata": {},
   "source": [
    "## 3. Exclusive ownership"
   ]
  },
  {
   "cell_type": "code",
   "execution_count": null,
   "metadata": {},
   "outputs": [],
   "source": [
    "class ExclusiveCopy\n",
    "{\n",
    "private:\n",
    "    int *_myInt;\n",
    "\n",
    "public:\n",
    "    ExclusiveCopy()\n",
    "    {\n",
    "        _myInt = (int *)malloc(sizeof(int));\n",
    "        std::cout << \"resource allocated\" << std::endl;\n",
    "    }\n",
    "    ~ExclusiveCopy()\n",
    "    {\n",
    "        if (_myInt != nullptr)\n",
    "        {\n",
    "            free(_myInt);\n",
    "            std::cout << \"resource freed\" << std::endl;\n",
    "        }\n",
    "            \n",
    "    }\n",
    "    ExclusiveCopy(ExclusiveCopy &source)\n",
    "    {\n",
    "        _myInt = source._myInt;\n",
    "        source._myInt = nullptr;\n",
    "    }\n",
    "    ExclusiveCopy &operator=(ExclusiveCopy &source)\n",
    "    {\n",
    "        _myInt = source._myInt;\n",
    "        source._myInt = nullptr;\n",
    "        return *this;\n",
    "    }\n",
    "};"
   ]
  },
  {
   "cell_type": "markdown",
   "metadata": {},
   "source": [
    "## 4. Deep copying"
   ]
  },
  {
   "cell_type": "code",
   "execution_count": null,
   "metadata": {},
   "outputs": [],
   "source": [
    "class DeepCopy\n",
    "{\n",
    "private:\n",
    "    int *_myInt;\n",
    "\n",
    "public:\n",
    "    DeepCopy(int val)\n",
    "    {\n",
    "        _myInt = (int *)malloc(sizeof(int));\n",
    "        *_myInt = val;\n",
    "        std::cout << \"resource allocated at address \" << _myInt << std::endl;\n",
    "    }\n",
    "    ~DeepCopy()\n",
    "    {\n",
    "        free(_myInt);\n",
    "        std::cout << \"resource freed at address \" << _myInt << std::endl;\n",
    "    }\n",
    "    DeepCopy(DeepCopy &source)\n",
    "    {\n",
    "        _myInt = (int *)malloc(sizeof(int));\n",
    "        *_myInt = *source._myInt;\n",
    "        std::cout << \"resource allocated at address \" << _myInt << \" with _myInt = \" << *_myInt << std::endl;\n",
    "    }\n",
    "    DeepCopy &operator=(DeepCopy &source)\n",
    "    {\n",
    "        _myInt = (int *)malloc(sizeof(int));\n",
    "        std::cout << \"resource allocated at address \" << _myInt << \" with _myInt=\" << *_myInt << std::endl;\n",
    "        *_myInt = *source._myInt;\n",
    "        return *this;\n",
    "    }\n",
    "};"
   ]
  },
  {
   "cell_type": "markdown",
   "metadata": {},
   "source": [
    "## 5. Shared ownership"
   ]
  },
  {
   "cell_type": "code",
   "execution_count": null,
   "metadata": {},
   "outputs": [],
   "source": [
    "#include <iostream>\n",
    "\n",
    "class SharedCopy\n",
    "{\n",
    "private:\n",
    "    int *_myInt;\n",
    "    static int _cnt;\n",
    "\n",
    "public:\n",
    "    SharedCopy(int val);\n",
    "    ~SharedCopy();\n",
    "    SharedCopy(SharedCopy &source);\n",
    "};\n",
    "\n",
    "int SharedCopy::_cnt = 0;\n",
    "\n",
    "SharedCopy::SharedCopy(int val)\n",
    "{\n",
    "    _myInt = (int *)malloc(sizeof(int));\n",
    "    *_myInt = val;\n",
    "    ++_cnt;\n",
    "    std::cout << \"resource allocated at address \" << _myInt << std::endl;\n",
    "}\n",
    "\n",
    "SharedCopy::~SharedCopy()\n",
    "{\n",
    "    --_cnt;\n",
    "    if (_cnt == 0)\n",
    "    {\n",
    "        free(_myInt);\n",
    "        std::cout << \"resource freed at address \" << _myInt << std::endl;\n",
    "    }\n",
    "    else\n",
    "    {\n",
    "        std::cout << \"instance at address \" << this << \" goes out of scope with _cnt = \" << _cnt << std::endl;\n",
    "    }\n",
    "}\n",
    "\n",
    "SharedCopy::SharedCopy(SharedCopy &source)\n",
    "{\n",
    "    _myInt = source._myInt;\n",
    "    ++_cnt;\n",
    "    std::cout << _cnt << \" instances with handles to address \" << _myInt << \" with _myInt = \" << *_myInt << std::endl;\n",
    "}"
   ]
  },
  {
   "cell_type": "code",
   "execution_count": null,
   "metadata": {},
   "outputs": [],
   "source": []
  }
 ],
 "metadata": {
  "kernelspec": {
   "display_name": "C++17",
   "language": "C++17",
   "name": "xcpp17"
  },
  "language_info": {
   "codemirror_mode": "text/x-c++src",
   "file_extension": ".cpp",
   "mimetype": "text/x-c++src",
   "name": "c++",
   "version": "17"
  }
 },
 "nbformat": 4,
 "nbformat_minor": 4
}
